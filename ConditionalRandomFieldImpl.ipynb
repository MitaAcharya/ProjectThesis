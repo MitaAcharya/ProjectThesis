{
 "cells": [
  {
   "cell_type": "markdown",
   "metadata": {},
   "source": [
    "# Conditional Random Field"
   ]
  },
  {
   "cell_type": "code",
   "execution_count": 1,
   "metadata": {},
   "outputs": [],
   "source": [
    "import pandas as pd\n",
    "import numpy as np\n",
    "import matplotlib.pyplot as plt\n",
    "import seaborn as sns\n",
    "\n",
    "%matplotlib inline\n",
    "from pickle import load\n",
    "\n",
    "import pycrfsuite\n",
    "\n",
    "# from keras.preprocessing.text import Tokenizer\n",
    "# from keras.preprocessing.sequence import pad_sequences"
   ]
  },
  {
   "cell_type": "code",
   "execution_count": 2,
   "metadata": {},
   "outputs": [],
   "source": [
    "baseCleanPath = \"/Users/mita/Documents/GitHub/MscPrg/Coding/PreparedData/\""
   ]
  },
  {
   "cell_type": "code",
   "execution_count": 3,
   "metadata": {},
   "outputs": [],
   "source": [
    "hindi_trainFileName = baseCleanPath + \"hi/trainclean.pkl\"\n",
    "hindi_trainYFileName = baseCleanPath + \"hi/trainYclean.pkl\"\n",
    "hindi_testFileName = baseCleanPath + \"hi/testclean.pkl\"\n",
    "hindi_testYFileName = baseCleanPath + \"hi/testYclean.pkl\"\n",
    "hindi_valFileName = baseCleanPath + \"hi/valclean.pkl\"\n",
    "hindi_valYFileName = baseCleanPath + \"hi/valYclean.pkl\""
   ]
  },
  {
   "cell_type": "code",
   "execution_count": 4,
   "metadata": {},
   "outputs": [],
   "source": [
    "hindi_trainFileData = load(open(hindi_trainFileName, 'rb'))\n",
    "hindi_trainYFileData = load(open(hindi_trainYFileName, 'rb'))\n",
    "hindi_testFileData = load(open(hindi_testFileName, 'rb'))\n",
    "hindi_testYFileData = load(open(hindi_testYFileName, 'rb'))\n",
    "hindi_valFileData = load(open(hindi_valFileName, 'rb'))\n",
    "hindi_valYFileData = load(open(hindi_valYFileName, 'rb'))"
   ]
  },
  {
   "cell_type": "code",
   "execution_count": 5,
   "metadata": {},
   "outputs": [
    {
     "data": {
      "text/plain": [
       "array([[  50,  589,    6, ...,    0,    0,    0],\n",
       "       [   1,    4,    1, ...,    0,    0,    0],\n",
       "       [1352,    1,   23, ...,    0,    0,    0],\n",
       "       ...,\n",
       "       [  71,    1,    6, ...,    0,    0,    0],\n",
       "       [ 255,    1, 1027, ...,    0,    0,    0],\n",
       "       [   1,   42,    2, ...,    0,    0,    0]], dtype=int32)"
      ]
     },
     "execution_count": 5,
     "metadata": {},
     "output_type": "execute_result"
    }
   ],
   "source": [
    "hindi_trainYFileData"
   ]
  },
  {
   "cell_type": "markdown",
   "metadata": {},
   "source": [
    "pycrfsuite requires that xseq be in ItemSequence format that would be {\"key1\": value, \"key\": \"value \"} format"
   ]
  },
  {
   "cell_type": "code",
   "execution_count": 6,
   "metadata": {},
   "outputs": [],
   "source": [
    "def convertToListOfStr(fileData):\n",
    "    traincrf = []\n",
    "    for val in fileData:\n",
    "        tmpData = {}\n",
    "        res = list(val.astype(str))\n",
    "    #     for index, val1 in enumerate(val):\n",
    "    #         print(type(val1), val1)\n",
    "    #         tmpData[index] = val1\n",
    "        traincrf.append(res)\n",
    "    return traincrf;\n"
   ]
  },
  {
   "cell_type": "code",
   "execution_count": 7,
   "metadata": {},
   "outputs": [],
   "source": [
    "hindi_traincrf = convertToListOfStr(hindi_trainFileData)\n",
    "hindi_trainYcrf = convertToListOfStr(hindi_trainYFileData)"
   ]
  },
  {
   "cell_type": "code",
   "execution_count": 8,
   "metadata": {},
   "outputs": [],
   "source": [
    "model_path=\"/Users/mita/Documents/GitHub/MscPrg/Coding/Model/CRF\""
   ]
  },
  {
   "cell_type": "code",
   "execution_count": null,
   "metadata": {},
   "outputs": [
    {
     "name": "stdout",
     "output_type": "stream",
     "text": [
      "Feature generation\n",
      "type: CRF1d\n",
      "feature.minfreq: 0.000000\n",
      "feature.possible_states: 0\n",
      "feature.possible_transitions: 1\n",
      "0....1....2....3....4....5....6....7...."
     ]
    }
   ],
   "source": [
    "#train model\n",
    "trainer = pycrfsuite.Trainer(verbose=True, \n",
    "                             params={'c1':1.0, \n",
    "                                     'c2':1e-4, \n",
    "                                     'max_iterations': 50, \n",
    "                                     'feature.possible_transitions': True })\n",
    "for xseq, yseq in zip(hindi_traincrf, hindi_trainYcrf):\n",
    "    trainer.append(xseq, yseq)\n",
    "\n",
    "trainer.train(model_path)"
   ]
  },
  {
   "cell_type": "code",
   "execution_count": null,
   "metadata": {},
   "outputs": [],
   "source": []
  },
  {
   "cell_type": "code",
   "execution_count": null,
   "metadata": {},
   "outputs": [],
   "source": []
  }
 ],
 "metadata": {
  "kernelspec": {
   "display_name": "Python 3",
   "language": "python",
   "name": "python3"
  },
  "language_info": {
   "codemirror_mode": {
    "name": "ipython",
    "version": 3
   },
   "file_extension": ".py",
   "mimetype": "text/x-python",
   "name": "python",
   "nbconvert_exporter": "python",
   "pygments_lexer": "ipython3",
   "version": "3.7.6"
  }
 },
 "nbformat": 4,
 "nbformat_minor": 4
}
