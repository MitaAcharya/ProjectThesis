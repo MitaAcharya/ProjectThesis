{
 "cells": [
  {
   "cell_type": "code",
   "execution_count": 22,
   "metadata": {},
   "outputs": [],
   "source": [
    "import pandas as pd\n",
    "import numpy as np\n",
    "import matplotlib.pyplot as plt\n",
    "import seaborn as sns\n",
    "\n",
    "%matplotlib inline\n",
    "from pickle import load\n",
    "from pickle import dump\n",
    "from sklearn.decomposition import PCA"
   ]
  },
  {
   "cell_type": "code",
   "execution_count": 6,
   "metadata": {},
   "outputs": [],
   "source": [
    "baseCleanPath = \"/Users/mita/Documents/GitHub/MscPrg/Coding/PreparedData/\""
   ]
  },
  {
   "cell_type": "code",
   "execution_count": 8,
   "metadata": {},
   "outputs": [],
   "source": [
    "hindi_trainFileName = baseCleanPath + \"hi/trainclean.pkl\"\n",
    "hindi_trainYFileName = baseCleanPath + \"hi/trainYclean.pkl\"\n",
    "hindi_testFileName = baseCleanPath + \"hi/testclean.pkl\"\n",
    "hindi_testYFileName = baseCleanPath + \"hi/testYclean.pkl\"\n",
    "hindi_valFileName = baseCleanPath + \"hi/valclean.pkl\"\n",
    "hindi_valYFileName = baseCleanPath + \"hi/valYclean.pkl\""
   ]
  },
  {
   "cell_type": "code",
   "execution_count": 9,
   "metadata": {},
   "outputs": [],
   "source": [
    "hindi_trainFileData = load(open(hindi_trainFileName, 'rb'))\n",
    "hindi_trainYFileData = load(open(hindi_trainYFileName, 'rb'))\n",
    "hindi_testFileData = load(open(hindi_testFileName, 'rb'))\n",
    "hindi_testYFileData = load(open(hindi_testYFileName, 'rb'))\n",
    "hindi_valFileData = load(open(hindi_valFileName, 'rb'))\n",
    "hindi_valYFileData = load(open(hindi_valYFileName, 'rb'))"
   ]
  },
  {
   "cell_type": "code",
   "execution_count": 10,
   "metadata": {},
   "outputs": [],
   "source": [
    "pca = PCA(n_components=128)\n",
    "principalComponents = pca.fit_transform(hindi_trainFileData)"
   ]
  },
  {
   "cell_type": "code",
   "execution_count": 12,
   "metadata": {},
   "outputs": [
    {
     "data": {
      "text/plain": [
       "128"
      ]
     },
     "execution_count": 12,
     "metadata": {},
     "output_type": "execute_result"
    }
   ],
   "source": [
    "len(principalComponents[0])"
   ]
  },
  {
   "cell_type": "code",
   "execution_count": 13,
   "metadata": {},
   "outputs": [],
   "source": [
    "#reduce the dimenationality to 128 for the ease of algorithm use\n",
    "hindi_trainPCA = pca.fit_transform(hindi_trainFileData)\n",
    "hindi_trainYPCA = pca.fit_transform(hindi_trainYFileData)\n",
    "hindi_testPCA = pca.fit_transform(hindi_testFileData)\n",
    "hindi_testYPCA = pca.fit_transform(hindi_testYFileData)\n",
    "hindi_valPCA = pca.fit_transform(hindi_valFileData)\n",
    "hindi_valYPCA = pca.fit_transform(hindi_valYFileData)"
   ]
  },
  {
   "cell_type": "code",
   "execution_count": 17,
   "metadata": {},
   "outputs": [
    {
     "name": "stdout",
     "output_type": "stream",
     "text": [
      "(5000, 128)\n",
      "(5000, 128)\n",
      "(5000, 128)\n",
      "(5000, 128)\n",
      "(10000, 128)\n",
      "(10000, 128)\n"
     ]
    }
   ],
   "source": [
    "print(hindi_trainPCA.shape)\n",
    "print(hindi_trainYPCA.shape)\n",
    "print(hindi_testPCA.shape)\n",
    "print(hindi_testYPCA.shape)\n",
    "print(hindi_valPCA.shape)\n",
    "print(hindi_valYPCA.shape)"
   ]
  },
  {
   "cell_type": "code",
   "execution_count": 18,
   "metadata": {},
   "outputs": [],
   "source": [
    "basePath = \"/Users/mita/Documents/GitHub/MscPrg/Coding/PreparedData/\""
   ]
  },
  {
   "cell_type": "code",
   "execution_count": 20,
   "metadata": {},
   "outputs": [],
   "source": [
    "#save the hindi data\n",
    "def save_clean_sentences(sentences, filename):\n",
    "    dump(sentences, open(filename, 'wb'))\n",
    "    print('Saved: %s' % filename)"
   ]
  },
  {
   "cell_type": "code",
   "execution_count": 23,
   "metadata": {},
   "outputs": [
    {
     "name": "stdout",
     "output_type": "stream",
     "text": [
      "Saved: /Users/mita/Documents/GitHub/MscPrg/Coding/PreparedData/hi/trainclean.pkl\n",
      "Saved: /Users/mita/Documents/GitHub/MscPrg/Coding/PreparedData/hi/trainYclean.pkl\n",
      "Saved: /Users/mita/Documents/GitHub/MscPrg/Coding/PreparedData/hi/testclean.pkl\n",
      "Saved: /Users/mita/Documents/GitHub/MscPrg/Coding/PreparedData/hi/testYclean.pkl\n",
      "Saved: /Users/mita/Documents/GitHub/MscPrg/Coding/PreparedData/hi/valclean.pkl\n",
      "Saved: /Users/mita/Documents/GitHub/MscPrg/Coding/PreparedData/hi/valYclean.pkl\n"
     ]
    }
   ],
   "source": [
    "save_clean_sentences(hindi_trainPCA, hindi_trainFileName)\n",
    "save_clean_sentences(hindi_trainPCA, hindi_trainYFileName)\n",
    "save_clean_sentences(hindi_trainPCA, hindi_testFileName)\n",
    "save_clean_sentences(hindi_trainPCA, hindi_testYFileName)\n",
    "save_clean_sentences(hindi_trainPCA, hindi_valFileName)\n",
    "save_clean_sentences(hindi_trainPCA, hindi_valYFileName)"
   ]
  },
  {
   "cell_type": "code",
   "execution_count": null,
   "metadata": {},
   "outputs": [],
   "source": []
  }
 ],
 "metadata": {
  "kernelspec": {
   "display_name": "Python 3",
   "language": "python",
   "name": "python3"
  },
  "language_info": {
   "codemirror_mode": {
    "name": "ipython",
    "version": 3
   },
   "file_extension": ".py",
   "mimetype": "text/x-python",
   "name": "python",
   "nbconvert_exporter": "python",
   "pygments_lexer": "ipython3",
   "version": "3.7.6"
  }
 },
 "nbformat": 4,
 "nbformat_minor": 5
}
